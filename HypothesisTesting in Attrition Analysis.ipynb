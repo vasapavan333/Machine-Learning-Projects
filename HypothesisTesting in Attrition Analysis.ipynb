{
 "cells": [
  {
   "cell_type": "markdown",
   "id": "90bbfc5f-aec2-4898-87d7-f60ec25c273a",
   "metadata": {},
   "source": [
    "***Objective***\n",
    "\n",
    "1) In the Below analysis, we are going to investigate, weather there is a statistical significance evidence available about the features \n",
    "to conclude that they have significant impact on the Attrition Levels.\n",
    "\n",
    "\n",
    "2) Identifying the correct features impacting attrition can help us to do further segment / deep analysis to find out the areas with problem.\n",
    "\n",
    "3) We can use more appropriate features to build our ML Models."
   ]
  },
  {
   "cell_type": "code",
   "execution_count": null,
   "id": "b74e1b2d-f884-4cf9-9d89-b9b80e4e1206",
   "metadata": {},
   "outputs": [],
   "source": [
    "import pandas as pd"
   ]
  },
  {
   "cell_type": "code",
   "execution_count": 121,
   "id": "2b9c1cb8-420a-4526-bb42-281a559ada80",
   "metadata": {},
   "outputs": [],
   "source": [
    "df = pd.read_csv(r'C:\\Users\\pavan.vasa\\OneDrive - Accenture\\My Learning\\Target MACHINE LEARNING 6 Months\\HR_comma_sep_LogisticRegression_BinaryClassification.csv')"
   ]
  },
  {
   "cell_type": "code",
   "execution_count": 122,
   "id": "01af0aac-0ceb-4344-b297-b034b05169d3",
   "metadata": {},
   "outputs": [
    {
     "data": {
      "text/plain": [
       "satisfaction_level       0\n",
       "last_evaluation          0\n",
       "number_project           0\n",
       "average_montly_hours     0\n",
       "time_spend_company       0\n",
       "Work_accident            0\n",
       "left                     0\n",
       "promotion_last_5years    0\n",
       "Department               0\n",
       "salary                   0\n",
       "dtype: int64"
      ]
     },
     "execution_count": 122,
     "metadata": {},
     "output_type": "execute_result"
    }
   ],
   "source": [
    "df.isnull().sum()"
   ]
  },
  {
   "cell_type": "code",
   "execution_count": 123,
   "id": "b1987a93-42c2-470f-9055-057f0997096c",
   "metadata": {},
   "outputs": [
    {
     "data": {
      "text/plain": [
       "Index(['satisfaction_level', 'last_evaluation', 'number_project',\n",
       "       'average_montly_hours', 'time_spend_company', 'Work_accident', 'left',\n",
       "       'promotion_last_5years', 'Department', 'salary'],\n",
       "      dtype='object')"
      ]
     },
     "execution_count": 123,
     "metadata": {},
     "output_type": "execute_result"
    }
   ],
   "source": [
    "df.columns"
   ]
  },
  {
   "cell_type": "code",
   "execution_count": 124,
   "id": "da71b448-9aca-4227-aed9-4c858b67b116",
   "metadata": {},
   "outputs": [
    {
     "data": {
      "text/plain": [
       "(14999, 2)"
      ]
     },
     "execution_count": 124,
     "metadata": {},
     "output_type": "execute_result"
    }
   ],
   "source": [
    "df1 = df[['salary','left']]\n",
    "df1.shape"
   ]
  },
  {
   "cell_type": "code",
   "execution_count": 125,
   "id": "b2e3f444-9907-40f8-a7b6-059e38f270a4",
   "metadata": {},
   "outputs": [
    {
     "data": {
      "text/plain": [
       "(14999, 2)"
      ]
     },
     "execution_count": 125,
     "metadata": {},
     "output_type": "execute_result"
    }
   ],
   "source": [
    "df2 = df[['satisfaction_level', 'left']]\n",
    "df2.shape"
   ]
  },
  {
   "cell_type": "code",
   "execution_count": 126,
   "id": "b2f6defd-a8cb-4c8f-a5c4-91422af44699",
   "metadata": {},
   "outputs": [
    {
     "data": {
      "text/plain": [
       "(14999, 2)"
      ]
     },
     "execution_count": 126,
     "metadata": {},
     "output_type": "execute_result"
    }
   ],
   "source": [
    "df3 = df[['average_montly_hours', 'left']]\n",
    "df3.shape"
   ]
  },
  {
   "cell_type": "code",
   "execution_count": 127,
   "id": "ca79d8b0-22df-4656-8c00-f7d5441870c0",
   "metadata": {},
   "outputs": [
    {
     "data": {
      "text/plain": [
       "(14999, 2)"
      ]
     },
     "execution_count": 127,
     "metadata": {},
     "output_type": "execute_result"
    }
   ],
   "source": [
    "df4 = df[['promotion_last_5years', 'left']]\n",
    "df4.shape"
   ]
  },
  {
   "cell_type": "code",
   "execution_count": 128,
   "id": "123b5da1-891e-4fb0-970d-afc825b68e78",
   "metadata": {},
   "outputs": [
    {
     "data": {
      "text/html": [
       "<div>\n",
       "<style scoped>\n",
       "    .dataframe tbody tr th:only-of-type {\n",
       "        vertical-align: middle;\n",
       "    }\n",
       "\n",
       "    .dataframe tbody tr th {\n",
       "        vertical-align: top;\n",
       "    }\n",
       "\n",
       "    .dataframe thead th {\n",
       "        text-align: right;\n",
       "    }\n",
       "</style>\n",
       "<table border=\"1\" class=\"dataframe\">\n",
       "  <thead>\n",
       "    <tr style=\"text-align: right;\">\n",
       "      <th></th>\n",
       "      <th>promotion_last_5years</th>\n",
       "      <th>average_montly_hours</th>\n",
       "      <th>satisfaction_level</th>\n",
       "      <th>left</th>\n",
       "    </tr>\n",
       "  </thead>\n",
       "  <tbody>\n",
       "    <tr>\n",
       "      <th>0</th>\n",
       "      <td>0</td>\n",
       "      <td>157</td>\n",
       "      <td>0.38</td>\n",
       "      <td>1</td>\n",
       "    </tr>\n",
       "    <tr>\n",
       "      <th>1</th>\n",
       "      <td>0</td>\n",
       "      <td>262</td>\n",
       "      <td>0.80</td>\n",
       "      <td>1</td>\n",
       "    </tr>\n",
       "    <tr>\n",
       "      <th>2</th>\n",
       "      <td>0</td>\n",
       "      <td>272</td>\n",
       "      <td>0.11</td>\n",
       "      <td>1</td>\n",
       "    </tr>\n",
       "    <tr>\n",
       "      <th>3</th>\n",
       "      <td>0</td>\n",
       "      <td>223</td>\n",
       "      <td>0.72</td>\n",
       "      <td>1</td>\n",
       "    </tr>\n",
       "    <tr>\n",
       "      <th>4</th>\n",
       "      <td>0</td>\n",
       "      <td>159</td>\n",
       "      <td>0.37</td>\n",
       "      <td>1</td>\n",
       "    </tr>\n",
       "  </tbody>\n",
       "</table>\n",
       "</div>"
      ],
      "text/plain": [
       "   promotion_last_5years  average_montly_hours  satisfaction_level  left\n",
       "0                      0                   157                0.38     1\n",
       "1                      0                   262                0.80     1\n",
       "2                      0                   272                0.11     1\n",
       "3                      0                   223                0.72     1\n",
       "4                      0                   159                0.37     1"
      ]
     },
     "execution_count": 128,
     "metadata": {},
     "output_type": "execute_result"
    }
   ],
   "source": [
    "df5 = df[['promotion_last_5years','average_montly_hours','satisfaction_level', 'left']]\n",
    "df5.head()\n"
   ]
  },
  {
   "cell_type": "code",
   "execution_count": 129,
   "id": "7f2c1598-cb3d-4f18-b138-6b579b93c216",
   "metadata": {},
   "outputs": [
    {
     "data": {
      "text/html": [
       "<div>\n",
       "<style scoped>\n",
       "    .dataframe tbody tr th:only-of-type {\n",
       "        vertical-align: middle;\n",
       "    }\n",
       "\n",
       "    .dataframe tbody tr th {\n",
       "        vertical-align: top;\n",
       "    }\n",
       "\n",
       "    .dataframe thead th {\n",
       "        text-align: right;\n",
       "    }\n",
       "</style>\n",
       "<table border=\"1\" class=\"dataframe\">\n",
       "  <thead>\n",
       "    <tr style=\"text-align: right;\">\n",
       "      <th></th>\n",
       "      <th>Department</th>\n",
       "      <th>promotion_last_5years</th>\n",
       "      <th>satisfaction_level</th>\n",
       "      <th>left</th>\n",
       "    </tr>\n",
       "  </thead>\n",
       "  <tbody>\n",
       "    <tr>\n",
       "      <th>0</th>\n",
       "      <td>sales</td>\n",
       "      <td>0</td>\n",
       "      <td>0.38</td>\n",
       "      <td>1</td>\n",
       "    </tr>\n",
       "    <tr>\n",
       "      <th>1</th>\n",
       "      <td>sales</td>\n",
       "      <td>0</td>\n",
       "      <td>0.80</td>\n",
       "      <td>1</td>\n",
       "    </tr>\n",
       "    <tr>\n",
       "      <th>2</th>\n",
       "      <td>sales</td>\n",
       "      <td>0</td>\n",
       "      <td>0.11</td>\n",
       "      <td>1</td>\n",
       "    </tr>\n",
       "    <tr>\n",
       "      <th>3</th>\n",
       "      <td>sales</td>\n",
       "      <td>0</td>\n",
       "      <td>0.72</td>\n",
       "      <td>1</td>\n",
       "    </tr>\n",
       "    <tr>\n",
       "      <th>4</th>\n",
       "      <td>sales</td>\n",
       "      <td>0</td>\n",
       "      <td>0.37</td>\n",
       "      <td>1</td>\n",
       "    </tr>\n",
       "  </tbody>\n",
       "</table>\n",
       "</div>"
      ],
      "text/plain": [
       "  Department  promotion_last_5years  satisfaction_level  left\n",
       "0      sales                      0                0.38     1\n",
       "1      sales                      0                0.80     1\n",
       "2      sales                      0                0.11     1\n",
       "3      sales                      0                0.72     1\n",
       "4      sales                      0                0.37     1"
      ]
     },
     "execution_count": 129,
     "metadata": {},
     "output_type": "execute_result"
    }
   ],
   "source": [
    "df6 = df[['Department','promotion_last_5years','satisfaction_level', 'left']]\n",
    "df6.head()"
   ]
  },
  {
   "cell_type": "markdown",
   "id": "919a7f26-3de4-4c3d-b46d-63952cd9a09d",
   "metadata": {},
   "source": [
    "***Salary Vs Attrition (Chi-Square Test)***\n",
    "\n",
    "As salary and attrition values can be considered as categorical variables, I have used Chi Square test, as this gives if there is a stastically significant relationship between the two variables.\n",
    "\n",
    "\n",
    "1) Null Hypothesis (Ho) = There is no association between Salary and Attrition. The distribution of Salary categories (High, Medium, Low) is the same for employees who left (Attrition = 0) and employees who stayed (Attrition = 1).\n",
    "\n",
    "2) Alternative Hypothesis (H1) = There is an association between Salary and Attrition. The distribution of Salary categories is different for employees who left (Attrition = 0) and employees who stayed (Attrition = 1)."
   ]
  },
  {
   "cell_type": "code",
   "execution_count": 131,
   "id": "9e26b129-2ca4-451f-800f-eeeefb54ee51",
   "metadata": {},
   "outputs": [
    {
     "data": {
      "text/html": [
       "<div>\n",
       "<style scoped>\n",
       "    .dataframe tbody tr th:only-of-type {\n",
       "        vertical-align: middle;\n",
       "    }\n",
       "\n",
       "    .dataframe tbody tr th {\n",
       "        vertical-align: top;\n",
       "    }\n",
       "\n",
       "    .dataframe thead th {\n",
       "        text-align: right;\n",
       "    }\n",
       "</style>\n",
       "<table border=\"1\" class=\"dataframe\">\n",
       "  <thead>\n",
       "    <tr style=\"text-align: right;\">\n",
       "      <th>left</th>\n",
       "      <th>0</th>\n",
       "      <th>1</th>\n",
       "    </tr>\n",
       "    <tr>\n",
       "      <th>salary</th>\n",
       "      <th></th>\n",
       "      <th></th>\n",
       "    </tr>\n",
       "  </thead>\n",
       "  <tbody>\n",
       "    <tr>\n",
       "      <th>high</th>\n",
       "      <td>1155</td>\n",
       "      <td>82</td>\n",
       "    </tr>\n",
       "    <tr>\n",
       "      <th>low</th>\n",
       "      <td>5144</td>\n",
       "      <td>2172</td>\n",
       "    </tr>\n",
       "    <tr>\n",
       "      <th>medium</th>\n",
       "      <td>5129</td>\n",
       "      <td>1317</td>\n",
       "    </tr>\n",
       "  </tbody>\n",
       "</table>\n",
       "</div>"
      ],
      "text/plain": [
       "left       0     1\n",
       "salary            \n",
       "high    1155    82\n",
       "low     5144  2172\n",
       "medium  5129  1317"
      ]
     },
     "execution_count": 131,
     "metadata": {},
     "output_type": "execute_result"
    }
   ],
   "source": [
    "\n",
    "df1 = df[['salary','left']]\n",
    "contingency_table = pd.crosstab(df['salary'], df['left'])\n",
    "contingency_table = pd.DataFrame(contingency_table)\n",
    "contingency_table"
   ]
  },
  {
   "cell_type": "code",
   "execution_count": 132,
   "id": "e18a9d73-de61-4307-b861-dcb1b5cd5212",
   "metadata": {},
   "outputs": [
    {
     "data": {
      "text/html": [
       "<div>\n",
       "<style scoped>\n",
       "    .dataframe tbody tr th:only-of-type {\n",
       "        vertical-align: middle;\n",
       "    }\n",
       "\n",
       "    .dataframe tbody tr th {\n",
       "        vertical-align: top;\n",
       "    }\n",
       "\n",
       "    .dataframe thead th {\n",
       "        text-align: right;\n",
       "    }\n",
       "</style>\n",
       "<table border=\"1\" class=\"dataframe\">\n",
       "  <thead>\n",
       "    <tr style=\"text-align: right;\">\n",
       "      <th>left</th>\n",
       "      <th>0</th>\n",
       "      <th>1</th>\n",
       "    </tr>\n",
       "    <tr>\n",
       "      <th>salary</th>\n",
       "      <th></th>\n",
       "      <th></th>\n",
       "    </tr>\n",
       "  </thead>\n",
       "  <tbody>\n",
       "    <tr>\n",
       "      <th>high</th>\n",
       "      <td>1155</td>\n",
       "      <td>82</td>\n",
       "    </tr>\n",
       "    <tr>\n",
       "      <th>low</th>\n",
       "      <td>5144</td>\n",
       "      <td>2172</td>\n",
       "    </tr>\n",
       "    <tr>\n",
       "      <th>medium</th>\n",
       "      <td>5129</td>\n",
       "      <td>1317</td>\n",
       "    </tr>\n",
       "  </tbody>\n",
       "</table>\n",
       "</div>"
      ],
      "text/plain": [
       "left       0     1\n",
       "salary            \n",
       "high    1155    82\n",
       "low     5144  2172\n",
       "medium  5129  1317"
      ]
     },
     "execution_count": 132,
     "metadata": {},
     "output_type": "execute_result"
    }
   ],
   "source": [
    "contingency_table = pd.crosstab(df['salary'], df1['left'])\n",
    "contingency_table"
   ]
  },
  {
   "cell_type": "code",
   "execution_count": 133,
   "id": "ec6ff7ba-4497-4872-a845-b0a9256e94aa",
   "metadata": {},
   "outputs": [],
   "source": [
    "import pandas as pd\n",
    "from scipy.stats import chi2_contingency"
   ]
  },
  {
   "cell_type": "markdown",
   "id": "a4e8c4ae-9f70-443c-9a2f-42b234639eb3",
   "metadata": {},
   "source": [
    "P-values always range from 0 to 1\n",
    "\n",
    "small p value (<0.05) indicate strong evidence against null hypothesis\n",
    "\n",
    "large p value (>0.05) indicates insufficient evidence to reject the null hypothesis"
   ]
  },
  {
   "cell_type": "code",
   "execution_count": 135,
   "id": "79127580-52f8-4e9e-a738-0d8d9a5b1019",
   "metadata": {},
   "outputs": [
    {
     "name": "stdout",
     "output_type": "stream",
     "text": [
      "p-value: 1.652086749295958e-83\n",
      "Reject the null hypothesis: There is a statistically significant association between the variables.\n"
     ]
    }
   ],
   "source": [
    "import pandas as pd\n",
    "from scipy.stats import chi2_contingency\n",
    "\n",
    "# Perform Chi-Square Test\n",
    "chi2, p, dof, expected = chi2_contingency(contingency_table)\n",
    "\n",
    "# Print p-value\n",
    "print(f\"p-value: {p}\")\n",
    "\n",
    "# Conclusion\n",
    "if p < 0.05:\n",
    "    print(\"Reject the null hypothesis: There is a statistically significant association between the variables.\")\n",
    "else:\n",
    "    print(\"Fail to reject the null hypothesis: There is no statistically significant association between the variables.\")"
   ]
  },
  {
   "cell_type": "markdown",
   "id": "eebeaeb8-6243-4850-8b9d-54a6d6d6d959",
   "metadata": {},
   "source": [
    "***Conclusion: There is a relationship between the Salary & Attrition***"
   ]
  },
  {
   "cell_type": "markdown",
   "id": "844bbd16-abfc-46dc-a3f0-845f80ce0c41",
   "metadata": {},
   "source": [
    "***Satisfaction Vs Attrition***"
   ]
  },
  {
   "cell_type": "code",
   "execution_count": 138,
   "id": "a53eebb2-ecbc-4357-9f8a-01e10a96d32c",
   "metadata": {},
   "outputs": [
    {
     "data": {
      "image/png": "[encoded data removed]",
      "text/plain": [
       "<Figure size 1800x600 with 3 Axes>"
      ]
     },
     "metadata": {},
     "output_type": "display_data"
    },
    {
     "name": "stdout",
     "output_type": "stream",
     "text": [
      "Shapiro-Wilk Test Statistic: 0.9518945472678346, p-value: 3.1637031058241156e-56\n",
      "Skewness: -0.47631270075042725, Kurtosis: -0.6710350084807528\n"
     ]
    },
    {
     "name": "stderr",
     "output_type": "stream",
     "text": [
      "C:\\Users\\pavan.vasa\\AppData\\Local\\Anaconda3.1\\Lib\\site-packages\\scipy\\stats\\_axis_nan_policy.py:531: UserWarning: scipy.stats.shapiro: For N > 5000, computed p-value may not be accurate. Current N is 14999.\n",
      "  res = hypotest_fun_out(*samples, **kwds)\n"
     ]
    }
   ],
   "source": [
    "import seaborn as sns\n",
    "import matplotlib.pyplot as plt\n",
    "from scipy import stats\n",
    "\n",
    "# Create a figure with 3 subplots side by side\n",
    "fig, axes = plt.subplots(1, 3, figsize=(18, 6))\n",
    "\n",
    "# Histogram with KDE\n",
    "sns.histplot(df2['satisfaction_level'], kde=True, ax=axes[0], color=\"skyblue\")\n",
    "axes[0].set_title('Histogram of Satisfaction Levels')\n",
    "axes[0].set_xlabel('Satisfaction Level')\n",
    "axes[0].set_ylabel('Frequency')\n",
    "\n",
    "# Boxplot\n",
    "sns.boxplot(data=df2['satisfaction_level'], ax=axes[1], color=\"lightgreen\")\n",
    "axes[1].set_title('Box Plot of Satisfaction Levels')\n",
    "axes[1].set_xlabel('Satisfaction Level')\n",
    "\n",
    "# Q-Q Plot\n",
    "stats.probplot(df2['satisfaction_level'], dist=\"norm\", plot=axes[2])\n",
    "axes[2].set_title('Q-Q Plot of Satisfaction Levels')\n",
    "\n",
    "# Adjust layout to prevent overlap\n",
    "plt.tight_layout()\n",
    "plt.show()\n",
    "\n",
    "# Shapiro-Wilk Test for Normality\n",
    "shapiro_stat, shapiro_p = stats.shapiro(df2['satisfaction_level'])\n",
    "print(f'Shapiro-Wilk Test Statistic: {shapiro_stat}, p-value: {shapiro_p}')\n",
    "\n",
    "# Skewness and Kurtosis\n",
    "skewness = stats.skew(df2['satisfaction_level'])\n",
    "kurtosis = stats.kurtosis(df2['satisfaction_level'])\n",
    "print(f'Skewness: {skewness}, Kurtosis: {kurtosis}')\n"
   ]
  },
  {
   "cell_type": "markdown",
   "id": "19052c2c-8de9-47a2-bd21-5cb17ca29f20",
   "metadata": {},
   "source": [
    "The data is not normally distributed, hence, we are using the Mann-Whitney U test instead of the T test."
   ]
  },
  {
   "cell_type": "markdown",
   "id": "5b0ae46f-a167-4d71-9a0f-7ec825c85c43",
   "metadata": {},
   "source": [
    "***Satisfaction Vs Attrition (Mann - Whitney U test)***\n",
    "\n",
    "1) Null Hypothesis (H₀): The distributions of satisfaction levels are the same for employees who stay and employees who leave.\n",
    "\n",
    "2) Alternative Hypothesis (H₁): The distributions of satisfaction levels are different for employees who stay and employees who leave."
   ]
  },
  {
   "cell_type": "code",
   "execution_count": 141,
   "id": "e8e7df11-f519-4ae5-9140-8bc9bf0ecb5d",
   "metadata": {},
   "outputs": [
    {
     "data": {
      "text/plain": [
       "0        0.38\n",
       "1        0.80\n",
       "2        0.11\n",
       "3        0.72\n",
       "4        0.37\n",
       "         ... \n",
       "14994    0.40\n",
       "14995    0.37\n",
       "14996    0.37\n",
       "14997    0.11\n",
       "14998    0.37\n",
       "Name: satisfaction_level, Length: 3571, dtype: float64"
      ]
     },
     "execution_count": 141,
     "metadata": {},
     "output_type": "execute_result"
    }
   ],
   "source": [
    "from scipy import stats\n",
    "df2.head()\n",
    "\n",
    "\n",
    "satisfaction_retained = df2[df2['left']==0]['satisfaction_level']\n",
    "satisfaction_retained\n",
    "\n",
    "satisfaction_left = df2[df2['left']==1]['satisfaction_level']\n",
    "satisfaction_left\n"
   ]
  },
  {
   "cell_type": "code",
   "execution_count": 142,
   "id": "02a68aa6-4b30-4223-b8e7-c63f114fd6be",
   "metadata": {},
   "outputs": [
    {
     "name": "stdout",
     "output_type": "stream",
     "text": [
      "Mann-Whitney U statistic: 30522915.0\n",
      "p-value: 0.0\n",
      "Reject the null hypothesis: There is a statistically significant association between the variables.\n"
     ]
    }
   ],
   "source": [
    "# Perform the Mann-Whitney U test\n",
    "u_statistic, p_value = stats.mannwhitneyu(satisfaction_retained, satisfaction_left)\n",
    "\n",
    "# Output the results\n",
    "print(f'Mann-Whitney U statistic: {u_statistic}')\n",
    "print(f'p-value: {p_value}')\n",
    "\n",
    "if p < 0.05:\n",
    "    print(\"Reject the null hypothesis: There is a statistically significant association between the variables.\")\n",
    "else:\n",
    "    print(\"Fail to reject the null hypothesis: There is no statistically significant association between the variables.\")"
   ]
  },
  {
   "cell_type": "markdown",
   "id": "9c04a39b-958d-4ec6-b70a-2b4bddfc18c7",
   "metadata": {},
   "source": [
    "***Conclusion: There is Significant Difference of Satisfaction Levels among retained and left groups***"
   ]
  },
  {
   "cell_type": "markdown",
   "id": "e38135ef-4afa-4476-9c4c-eb28c053bb73",
   "metadata": {},
   "source": [
    "***Working Hours Vs Attrition (Mann - Whitney U test)***\n",
    "\n",
    "1) Null Hypothesis (H₀): There is no significant difference in the average working hours between employees who stay with the company and employees who leave the company.\n",
    "\n",
    "2) Alternative Hypothesis (H₁): There is a significant difference in the average working hours between employees who stay with the company and employees who leave the company."
   ]
  },
  {
   "cell_type": "code",
   "execution_count": 145,
   "id": "04bf2f76-c5bc-447c-8dd0-671a36468e05",
   "metadata": {},
   "outputs": [
    {
     "data": {
      "image/png": "[encoded data removed]",
      "text/plain": [
       "<Figure size 1800x600 with 3 Axes>"
      ]
     },
     "metadata": {},
     "output_type": "display_data"
    },
    {
     "name": "stdout",
     "output_type": "stream",
     "text": [
      "Shapiro-Wilk Test Statistic: 0.9633654336916019, p-value: 2.784782234181442e-51\n",
      "Skewness: 0.05283670471826943, Kurtosis: -1.1350032510931285\n"
     ]
    },
    {
     "name": "stderr",
     "output_type": "stream",
     "text": [
      "C:\\Users\\pavan.vasa\\AppData\\Local\\Anaconda3.1\\Lib\\site-packages\\scipy\\stats\\_axis_nan_policy.py:531: UserWarning: scipy.stats.shapiro: For N > 5000, computed p-value may not be accurate. Current N is 14999.\n",
      "  res = hypotest_fun_out(*samples, **kwds)\n"
     ]
    }
   ],
   "source": [
    "import seaborn as sns\n",
    "import matplotlib.pyplot as plt\n",
    "from scipy import stats\n",
    "\n",
    "df3 = df[['average_montly_hours', 'left']]\n",
    "df3.shape\n",
    "\n",
    "x = df3['average_montly_hours']\n",
    "\n",
    "# Create a figure with 3 subplots side by side\n",
    "fig, axes = plt.subplots(1, 3, figsize=(18, 6))\n",
    "\n",
    "# Histogram with KDE\n",
    "sns.histplot(x, kde=True, ax=axes[0], color=\"skyblue\")\n",
    "axes[0].set_title('AVG Monthly Hours')\n",
    "axes[0].set_xlabel('AVG Monthly Hours')\n",
    "axes[0].set_ylabel('Frequency')\n",
    "\n",
    "# Boxplot\n",
    "sns.boxplot(x, ax=axes[1], color=\"lightgreen\")\n",
    "axes[1].set_title('Box Plot of AVG Monthly Hours')\n",
    "axes[1].set_xlabel('AVG Monthly Hours')\n",
    "\n",
    "# Q-Q Plot\n",
    "stats.probplot(x, dist=\"norm\", plot=axes[2])\n",
    "axes[2].set_title('Q-Q Plot of AVG Monthly Hours')\n",
    "\n",
    "# Adjust layout to prevent overlap\n",
    "plt.tight_layout()\n",
    "plt.show()\n",
    "\n",
    "# Shapiro-Wilk Test for Normality\n",
    "shapiro_stat, shapiro_p = stats.shapiro(x)\n",
    "print(f'Shapiro-Wilk Test Statistic: {shapiro_stat}, p-value: {shapiro_p}')\n",
    "\n",
    "# Skewness and Kurtosis\n",
    "skewness = stats.skew(x)\n",
    "kurtosis = stats.kurtosis(x)\n",
    "print(f'Skewness: {skewness}, Kurtosis: {kurtosis}')\n"
   ]
  },
  {
   "cell_type": "code",
   "execution_count": 146,
   "id": "ca241c21-573b-4117-bc21-8b1afe5eb959",
   "metadata": {},
   "outputs": [
    {
     "data": {
      "text/plain": [
       "0        157\n",
       "1        262\n",
       "2        272\n",
       "3        223\n",
       "4        159\n",
       "        ... \n",
       "14994    151\n",
       "14995    160\n",
       "14996    143\n",
       "14997    280\n",
       "14998    158\n",
       "Name: average_montly_hours, Length: 3571, dtype: int64"
      ]
     },
     "execution_count": 146,
     "metadata": {},
     "output_type": "execute_result"
    }
   ],
   "source": [
    "from scipy import stats\n",
    "df2.head()\n",
    "average_montly_hours_retained = df3[df3['left']==0]['average_montly_hours']\n",
    "average_montly_hours_retained\n",
    "average_montly_hours_left = df3[df3['left']==1]['average_montly_hours']\n",
    "average_montly_hours_left"
   ]
  },
  {
   "cell_type": "code",
   "execution_count": 147,
   "id": "9bb6af6d-9620-47de-950d-bf8d0cae1b31",
   "metadata": {
    "scrolled": true
   },
   "outputs": [
    {
     "name": "stdout",
     "output_type": "stream",
     "text": [
      "Mann-Whitney U statistic: 19119787.5\n",
      "p-value: 1.2769565984354332e-08\n",
      "Reject the null hypothesis: There is a statistically significant association between the variables.\n"
     ]
    }
   ],
   "source": [
    "# Perform the Mann-Whitney U test\n",
    "u_statistic, p_value = stats.mannwhitneyu(average_montly_hours_retained, average_montly_hours_left)\n",
    "\n",
    "# Output the results\n",
    "print(f'Mann-Whitney U statistic: {u_statistic}')\n",
    "print(f'p-value: {p_value}')\n",
    "\n",
    "\n",
    "if p < 0.05:\n",
    "    print(\"Reject the null hypothesis: There is a statistically significant association between the variables.\")\n",
    "else:\n",
    "    print(\"Fail to reject the null hypothesis: There is no statistically significant association between the variables.\")"
   ]
  },
  {
   "cell_type": "markdown",
   "id": "cc149176-3345-4314-9f7c-533b809f93b8",
   "metadata": {},
   "source": [
    "***Conclusion: There is a relationship b/w attrition and working hours***"
   ]
  },
  {
   "cell_type": "markdown",
   "id": "d6b93fa6-3cba-43a5-be21-3b72e51f38cd",
   "metadata": {},
   "source": [
    "***Promotion in Last 5 Years Vs Attrition (Chi-Square Test)***"
   ]
  },
  {
   "cell_type": "markdown",
   "id": "71b8940f-0db4-47dc-84dd-6a43280c0cd2",
   "metadata": {},
   "source": [
    "***Hypothesis***\n",
    "\n",
    "Null Hypothesis (H₀): There is no relationship between promotion status and attrition. In other words, promotion status does not affect the likelihood of an employee leaving.\n",
    "\n",
    "Alternative Hypothesis (H₁): There is a significant relationship between promotion status and attrition. In other words, promotion status does influence the likelihood of an employee leaving."
   ]
  },
  {
   "cell_type": "code",
   "execution_count": 151,
   "id": "56abb28e-8042-4a11-8bd3-e8ab9589b04d",
   "metadata": {},
   "outputs": [
    {
     "name": "stdout",
     "output_type": "stream",
     "text": [
      "promotion_last_5years\n",
      "0    12849\n",
      "1     2150\n",
      "dtype: int64\n",
      "left\n",
      "0    11428\n",
      "1     3571\n",
      "dtype: int64\n"
     ]
    }
   ],
   "source": [
    "df4 = df[['promotion_last_5years', 'left']]\n",
    "print(df4.groupby('promotion_last_5years').size())\n",
    "print(df4.groupby('left').size())"
   ]
  },
  {
   "cell_type": "code",
   "execution_count": 152,
   "id": "05827b5f-43ff-473c-a466-dbebe53149b4",
   "metadata": {},
   "outputs": [
    {
     "data": {
      "text/html": [
       "<div>\n",
       "<style scoped>\n",
       "    .dataframe tbody tr th:only-of-type {\n",
       "        vertical-align: middle;\n",
       "    }\n",
       "\n",
       "    .dataframe tbody tr th {\n",
       "        vertical-align: top;\n",
       "    }\n",
       "\n",
       "    .dataframe thead th {\n",
       "        text-align: right;\n",
       "    }\n",
       "</style>\n",
       "<table border=\"1\" class=\"dataframe\">\n",
       "  <thead>\n",
       "    <tr style=\"text-align: right;\">\n",
       "      <th>left</th>\n",
       "      <th>0</th>\n",
       "      <th>1</th>\n",
       "    </tr>\n",
       "    <tr>\n",
       "      <th>promotion_last_5years</th>\n",
       "      <th></th>\n",
       "      <th></th>\n",
       "    </tr>\n",
       "  </thead>\n",
       "  <tbody>\n",
       "    <tr>\n",
       "      <th>0</th>\n",
       "      <td>9282</td>\n",
       "      <td>3567</td>\n",
       "    </tr>\n",
       "    <tr>\n",
       "      <th>1</th>\n",
       "      <td>2146</td>\n",
       "      <td>4</td>\n",
       "    </tr>\n",
       "  </tbody>\n",
       "</table>\n",
       "</div>"
      ],
      "text/plain": [
       "left                      0     1\n",
       "promotion_last_5years            \n",
       "0                      9282  3567\n",
       "1                      2146     4"
      ]
     },
     "execution_count": 152,
     "metadata": {},
     "output_type": "execute_result"
    }
   ],
   "source": [
    "contingency_table = pd.crosstab(df4['promotion_last_5years'], df4['left'])\n",
    "contingency_table.head()"
   ]
  },
  {
   "cell_type": "code",
   "execution_count": 153,
   "id": "698cdb62-bae8-41a8-b282-20f4117ecaa6",
   "metadata": {},
   "outputs": [
    {
     "name": "stdout",
     "output_type": "stream",
     "text": [
      "p value 1.388902433642264e-169\n",
      "Reject the null hypothesis: Hence, There statistical evidence about the relationship of promotion status and attrition.\n"
     ]
    }
   ],
   "source": [
    "import pandas as pd\n",
    "from scipy.stats import chi2_contingency\n",
    "chi2, p, dof, expected = chi2_contingency(contingency_table)\n",
    "chi2_contingency\n",
    "\n",
    "print(f'p value', p)\n",
    "\n",
    "if p < 0.05:\n",
    "    print(\"Reject the null hypothesis: Hence, There statistical evidence about the relationship of promotion status and attrition.\")\n",
    "else:\n",
    "    print(\"Fail to reject the null hypothesis: Hence, There no statistical evidence about the relationship of promotion status and attrition.\")"
   ]
  },
  {
   "cell_type": "markdown",
   "id": "bfb35e70-5149-4faa-97e2-6fe5a61cdbb7",
   "metadata": {},
   "source": [
    "From above chart, we can see top factor is Satisfaction level & promotion & no correlation between the monthly hours and attrition."
   ]
  },
  {
   "cell_type": "markdown",
   "id": "d072ab01-eef4-4329-90e5-7d04327a3dea",
   "metadata": {},
   "source": [
    "***Based on Correlation map, I feel it is good to consider Satisfaction Levels & Promotion levels to do further deep analysis at Department Level*** "
   ]
  },
  {
   "cell_type": "code",
   "execution_count": 156,
   "id": "78d04a14-aacb-482d-93d6-0c6d7988bb7c",
   "metadata": {},
   "outputs": [
    {
     "data": {
      "text/html": [
       "<div>\n",
       "<style scoped>\n",
       "    .dataframe tbody tr th:only-of-type {\n",
       "        vertical-align: middle;\n",
       "    }\n",
       "\n",
       "    .dataframe tbody tr th {\n",
       "        vertical-align: top;\n",
       "    }\n",
       "\n",
       "    .dataframe thead th {\n",
       "        text-align: right;\n",
       "    }\n",
       "</style>\n",
       "<table border=\"1\" class=\"dataframe\">\n",
       "  <thead>\n",
       "    <tr style=\"text-align: right;\">\n",
       "      <th></th>\n",
       "      <th>Department</th>\n",
       "      <th>promotion_last_5years</th>\n",
       "      <th>satisfaction_level</th>\n",
       "      <th>left</th>\n",
       "    </tr>\n",
       "  </thead>\n",
       "  <tbody>\n",
       "    <tr>\n",
       "      <th>0</th>\n",
       "      <td>sales</td>\n",
       "      <td>0</td>\n",
       "      <td>0.38</td>\n",
       "      <td>1</td>\n",
       "    </tr>\n",
       "    <tr>\n",
       "      <th>1</th>\n",
       "      <td>sales</td>\n",
       "      <td>0</td>\n",
       "      <td>0.80</td>\n",
       "      <td>1</td>\n",
       "    </tr>\n",
       "    <tr>\n",
       "      <th>2</th>\n",
       "      <td>sales</td>\n",
       "      <td>0</td>\n",
       "      <td>0.11</td>\n",
       "      <td>1</td>\n",
       "    </tr>\n",
       "    <tr>\n",
       "      <th>3</th>\n",
       "      <td>sales</td>\n",
       "      <td>0</td>\n",
       "      <td>0.72</td>\n",
       "      <td>1</td>\n",
       "    </tr>\n",
       "    <tr>\n",
       "      <th>4</th>\n",
       "      <td>sales</td>\n",
       "      <td>0</td>\n",
       "      <td>0.37</td>\n",
       "      <td>1</td>\n",
       "    </tr>\n",
       "  </tbody>\n",
       "</table>\n",
       "</div>"
      ],
      "text/plain": [
       "  Department  promotion_last_5years  satisfaction_level  left\n",
       "0      sales                      0                0.38     1\n",
       "1      sales                      0                0.80     1\n",
       "2      sales                      0                0.11     1\n",
       "3      sales                      0                0.72     1\n",
       "4      sales                      0                0.37     1"
      ]
     },
     "execution_count": 156,
     "metadata": {},
     "output_type": "execute_result"
    }
   ],
   "source": [
    "df6.head()"
   ]
  },
  {
   "cell_type": "markdown",
   "id": "865fbae3-a54f-44a6-b6a4-22b124776f55",
   "metadata": {},
   "source": [
    "***Department Wise Attrition***"
   ]
  },
  {
   "cell_type": "code",
   "execution_count": 158,
   "id": "b6145b3c-d8eb-409f-88e6-8e031f5f3b32",
   "metadata": {},
   "outputs": [
    {
     "ename": "NameError",
     "evalue": "name 'attrition' is not defined",
     "output_type": "error",
     "traceback": [
      "\u001b[1;31m---------------------------------------------------------------------------\u001b[0m",
      "\u001b[1;31mNameError\u001b[0m                                 Traceback (most recent call last)",
      "Cell \u001b[1;32mIn[158], line 2\u001b[0m\n\u001b[0;32m      1\u001b[0m attrition_promo \u001b[38;5;241m=\u001b[39m df[[\u001b[38;5;124m'\u001b[39m\u001b[38;5;124mDepartment\u001b[39m\u001b[38;5;124m'\u001b[39m, \u001b[38;5;124m'\u001b[39m\u001b[38;5;124mleft\u001b[39m\u001b[38;5;124m'\u001b[39m, \u001b[38;5;124m'\u001b[39m\u001b[38;5;124mpromotion_last_5years\u001b[39m\u001b[38;5;124m'\u001b[39m]]\n\u001b[1;32m----> 2\u001b[0m attrition\u001b[38;5;241m.\u001b[39mshape\n",
      "\u001b[1;31mNameError\u001b[0m: name 'attrition' is not defined"
     ]
    }
   ],
   "source": [
    "attrition_promo = df[['Department', 'left', 'promotion_last_5years']]\n",
    "attrition.shape"
   ]
  },
  {
   "cell_type": "code",
   "execution_count": null,
   "id": "f9847c40-3d56-46c5-a52b-ff94989b7d8b",
   "metadata": {},
   "outputs": [],
   "source": [
    "hc = attrition_promo['Department'].value_counts()\n",
    "attrition_count = attrition_promo[attrition_promo['left'] == 1].value_counts()\n",
    "department_attrition = pd.DataFrame(attrition_count)\n",
    "\n",
    "department_attrition_count = attrition_promo[attrition_promo['left'] == 1]['Department'].value_counts()\n",
    "department_attrition_count\n",
    "\n",
    "department_promo_count = attrition_promo[attrition_promo['promotion_last_5years'] == 1]['Department'].value_counts()\n",
    "\n",
    "\n",
    "dept_hc_count = pd.DataFrame(hc)\n",
    "#print('hc', dept_hc_count)\n",
    "#print('hc_sum', dept_hc_count.sum())\n",
    "\n",
    "dept_attrition_count = pd.DataFrame(department_attrition_count)\n",
    "#print('attrition', dept_attrition_count)\n",
    "#print('attrition_sum', dept_attrition_count.sum())\n",
    "\n",
    "dept_promo_count = pd.DataFrame(department_promo_count)\n",
    "\n",
    "#print('promo_count', dept_promo_count)\n",
    "#print('promo_count_sum', dept_promo_count.sum())\n",
    "\n",
    "dept_hc_attrition_count = pd.merge(dept_hc_count, dept_attrition_count, how = 'inner', on = 'Department', suffixes=('_HC', '_Attrition'))\n",
    "dept_hc_attrition_count.columns = ['HC_Count', 'Attrition_Count']\n",
    "dept_hc_attrition_count.sort_values(by = 'HC_Count', ascending = False)\n",
    "#print(dept_hc_attrition_count)\n",
    "\n",
    "\n",
    "dept_hc_attrition_promo_count = pd.merge(dept_hc_attrition_count, dept_promo_count, how = 'inner', on = 'Department')\n",
    "\n",
    "\n",
    "dept_hc_attrition_promo_count.columns = ['hc_count','attrition_count', 'promo_count']\n",
    "print(dept_hc_attrition_promo_count)\n",
    "\n"
   ]
  },
  {
   "cell_type": "code",
   "execution_count": null,
   "id": "82a4b8d8-8544-4419-aecc-7adf6ca2be54",
   "metadata": {},
   "outputs": [],
   "source": [
    "dept_hc_attrition_promo_count['attrition_rate'] = (dept_hc_attrition_promo_count['attrition_count']/dept_hc_attrition_promo_count['hc_count'])*100\n",
    "dept_hc_attrition_promo_count['attrition_rate'] = dept_hc_attrition_promo_count['attrition_rate'].round(1)\n",
    "dept_hc_attrition_promo_count.sort_values(by = 'attrition_rate', ascending = False)\n",
    "\n",
    "dept_hc_attrition_promo_count['promo_rate'] = (dept_hc_attrition_promo_count['promo_count']/dept_hc_attrition_promo_count['hc_count'])*100\n",
    "dept_hc_attrition_promo_count['promo_rate'] = dept_hc_attrition_promo_count['promo_rate'].round(1)\n",
    "\n",
    "dept_hc_attrition_promo_count = dept_hc_attrition_promo_count[['hc_count', 'attrition_count', 'attrition_rate', 'promo_count', 'promo_rate']]\n",
    "dept_hc_attrition_promo_count = dept_hc_attrition_promo_count.reset_index()\n",
    "\n",
    "dept_hc_attrition_promo_count"
   ]
  },
  {
   "cell_type": "code",
   "execution_count": null,
   "id": "1e4e4e9a-8c91-44a6-b589-38ba6c0c414c",
   "metadata": {},
   "outputs": [],
   "source": [
    "import pandas as pd\n",
    "import seaborn as sns\n",
    "import matplotlib.pyplot as plt\n",
    "\n",
    "fig, (ax1, ax2, ax3) = plt.subplots(1, 3, figsize=(18, 6))\n",
    "sns_bar1 = sns.barplot(x='Department', y='hc_count', data=dept_hc_attrition_promo_count, ax=ax1, color='lightblue', label='Headcount')\n",
    "\n",
    "for bar in sns_bar1.patches:\n",
    "    ax1.text(\n",
    "        bar.get_x() + bar.get_width() / 2,  \n",
    "        bar.get_height(),                   \n",
    "        f'{bar.get_height():,.0f}',          \n",
    "        ha='center', va='bottom',           \n",
    "        fontsize=10                        \n",
    "    )\n",
    "\n",
    "ax1.set_title('Headcount by Department')\n",
    "ax1.set_xlabel('Department')\n",
    "ax1.set_ylabel('Headcount')\n",
    "ax1.set_xticklabels(ax1.get_xticklabels(), rotation=45)\n",
    "sns_bar2 = sns.barplot(x='Department', y='attrition_rate', data=dept_hc_attrition_promo_count, ax=ax2, color='red', label='Attrition Rate')\n",
    "\n",
    "for bar in sns_bar2.patches:\n",
    "    ax2.text(\n",
    "        bar.get_x() + bar.get_width() / 2, \n",
    "        bar.get_height(),                  \n",
    "        f'{bar.get_height():.1f}%',         \n",
    "        ha='center', va='bottom',           \n",
    "        fontsize=10                    \n",
    "    )\n",
    "    \n",
    "ax2.set_title('Attrition Rate by Department')\n",
    "ax2.set_xlabel('Department')\n",
    "ax2.set_ylabel('Attrition Rate (%)')\n",
    "ax2.set_xticklabels(ax2.get_xticklabels(), rotation=45)\n",
    "\n",
    "sns_bar3 = sns.barplot(x='Department', y='promo_rate', data=dept_hc_attrition_promo_count, ax=ax3, color='green', label='Promotion Rate')\n",
    "\n",
    "for bar in sns_bar3.patches:\n",
    "    ax3.text(\n",
    "        bar.get_x() + bar.get_width() / 2,  \n",
    "        bar.get_height(),                  \n",
    "        f'{bar.get_height():.1f}%',        \n",
    "        ha='center', va='bottom',           \n",
    "        fontsize=10                         \n",
    "    )\n",
    "\n",
    "ax3.set_title('Promotion Rate by Department')\n",
    "ax3.set_xlabel('Department')\n",
    "ax3.set_ylabel('Promotion Rate (%)')\n",
    "ax3.set_xticklabels(ax3.get_xticklabels(), rotation=45)\n",
    "\n",
    "plt.tight_layout()\n",
    "plt.show()"
   ]
  },
  {
   "cell_type": "code",
   "execution_count": null,
   "id": "39d03c78-7253-4757-80e8-405ca541cca8",
   "metadata": {},
   "outputs": [],
   "source": [
    "left_by_department = df[df['left'] == 1].groupby('Department').size()\n",
    "df6_left = df6[df6['left']==1]\n",
    "df6_retained = df6[df6['left']==1]"
   ]
  },
  {
   "cell_type": "code",
   "execution_count": null,
   "id": "be0c3408-6a7f-4abd-b671-fa9e1cc4868b",
   "metadata": {},
   "outputs": [],
   "source": [
    "import seaborn as sns\n",
    "import matplotlib.pyplot as plt\n",
    "\n",
    "plt.figure(figsize=(10, 6))\n",
    "sns.boxplot(x='Department', y='satisfaction_level', data=df6)\n",
    "plt.title(\"Satisfaction Level by Department\")\n",
    "plt.xlabel(\"Department\")\n",
    "plt.ylabel(\"Satisfaction Level\")\n",
    "plt.xticks(rotation=45)\n",
    "plt.show()\n",
    "\n",
    "\n",
    "df.groupby('Department')['satisfaction_level'].describe()"
   ]
  },
  {
   "cell_type": "markdown",
   "id": "704dc859-f20b-41f4-9df6-438e405dd454",
   "metadata": {},
   "source": [
    "Null hypothesis (H₀): There is no significant difference in satisfaction levels or promotion rates between departments.\n",
    "\n",
    "Alternative hypothesis (H₁): There is a significant difference in satisfaction levels or promotion rates between departments."
   ]
  }
 ],
 "metadata": {
  "kernelspec": {
   "display_name": "Python 3 (ipykernel)",
   "language": "python",
   "name": "python3"
  },
  "language_info": {
   "codemirror_mode": {
    "name": "ipython",
    "version": 3
   },
   "file_extension": ".py",
   "mimetype": "text/x-python",
   "name": "python",
   "nbconvert_exporter": "python",
   "pygments_lexer": "ipython3",
   "version": "3.12.4"
  }
 },
 "nbformat": 4,
 "nbformat_minor": 5
}
